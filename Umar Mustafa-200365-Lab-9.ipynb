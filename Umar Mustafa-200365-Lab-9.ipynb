{
 "cells": [
  {
   "cell_type": "markdown",
   "id": "55fa410e",
   "metadata": {},
   "source": [
    "# <center>Computer Application in Engineering Design Lab\n",
    "## <center>Lab 9, BCE Fall 2021\n",
    "### Instructor: Muhammad Farooq Khan\n",
    "### Date: 12-Dec-2021"
   ]
  },
  {
   "cell_type": "markdown",
   "id": "f36cd4f9",
   "metadata": {},
   "source": [
    "### Task 1"
   ]
  },
  {
   "cell_type": "code",
   "execution_count": 44,
   "id": "8bc83623",
   "metadata": {},
   "outputs": [
    {
     "name": "stdout",
     "output_type": "stream",
     "text": [
      "{'emp1': {'name': 'Jhon', 'salary': 7500}, 'emp2': {'name': 'Emma', 'salary': 8000}, 'emp3': {'name': 'Brad', 'salary': 8500}}\n"
     ]
    }
   ],
   "source": [
    "sample_dict = {\"emp1\":{\"name\":\"Jhon\", \"salary\":7500}, \"emp2\":{\"name\":\"Emma\", \"salary\":8000}, \"emp3\":{\"name\":\"Brad\",\"salary\":500}}\n",
    "sample_dict[\"emp3\"][\"salary\"] = 8500\n",
    "print(sample_dict)"
   ]
  },
  {
   "cell_type": "markdown",
   "id": "ec137d69",
   "metadata": {},
   "source": [
    "### Task 2"
   ]
  },
  {
   "cell_type": "code",
   "execution_count": 57,
   "id": "454c419e",
   "metadata": {},
   "outputs": [
    {
     "name": "stdout",
     "output_type": "stream",
     "text": [
      "Math\n"
     ]
    }
   ],
   "source": [
    "sample_dict = {\"Physics\": 82, \"Math\": 65, \"history\": 75}\n",
    "print(min(sample_dict))"
   ]
  },
  {
   "cell_type": "markdown",
   "id": "6daba8fb",
   "metadata": {},
   "source": [
    "### Task 3"
   ]
  },
  {
   "cell_type": "code",
   "execution_count": 60,
   "id": "ef9fad53",
   "metadata": {},
   "outputs": [
    {
     "name": "stdout",
     "output_type": "stream",
     "text": [
      "{'name': 'Kelly', 'age': 25, 'salary': 8000, 'location': 'New york'}\n"
     ]
    }
   ],
   "source": [
    "sample_dict = {\"name\": \"Kelly\", \"age\":25, \"salary\": 8000, \"city\": \"New york\"}\n",
    "del sample_dict[\"city\"]\n",
    "sample_dict[\"location\"] = \"New york\"\n",
    "print(sample_dict)"
   ]
  },
  {
   "cell_type": "markdown",
   "id": "0cdc05d4",
   "metadata": {},
   "source": [
    "### Task 4"
   ]
  },
  {
   "cell_type": "code",
   "execution_count": 81,
   "id": "564424c5",
   "metadata": {},
   "outputs": [
    {
     "name": "stdout",
     "output_type": "stream",
     "text": [
      "Yes value 200 exists in dictionary\n"
     ]
    }
   ],
   "source": [
    "sample_dict = {'a': 100, 'b': 200,'c': 300}\n",
    "if 200 in sample_dict.values():\n",
    "    print(\"Yes value 200 exists in dictionary\")\n",
    "else:\n",
    "    print(\"It does not exist\")"
   ]
  },
  {
   "cell_type": "markdown",
   "id": "44407329",
   "metadata": {},
   "source": [
    "### Task 5"
   ]
  },
  {
   "cell_type": "code",
   "execution_count": 106,
   "id": "cdabceba",
   "metadata": {},
   "outputs": [
    {
     "name": "stdout",
     "output_type": "stream",
     "text": [
      "{'age': 25, 'city': 'New york'}\n"
     ]
    }
   ],
   "source": [
    "sample_dict = {\"name\": \"Kelly\", \"age\": 25, \"salary\": 8000, \"city\": \"New york\"}\n",
    "keys = [\"name\", \"salary\"]\n",
    "for k in keys:\n",
    "    sample_dict.pop(k)\n",
    "print(sample_dict)"
   ]
  },
  {
   "cell_type": "markdown",
   "id": "98ce8e88",
   "metadata": {},
   "source": [
    "### Task 6"
   ]
  },
  {
   "cell_type": "code",
   "execution_count": null,
   "id": "e00f9294",
   "metadata": {},
   "outputs": [],
   "source": [
    "student = {}\n",
    "n = 5\n",
    "for i in range(1, n+1):\n",
    "    print(\"Enter details of student:\",(i))\n",
    "    rollno = int(input(\"Roll Number: \")\n",
    "    name = input(\"Name: \")\n",
    "    GPA = float(input(\"GPA: \"))\n",
    "    d = {\"RollNo\":rollno,\"Name\":name,\"GPA\":GPA}\n",
    "    key = \"student\"+str(i)\n",
    "    student[key] = d\n",
    "    sd = student[\"RollNo\"]    \n",
    "ID = int(input(\"Enter Id Of Student to  see profile: \"))\n",
    "print(\"Profile of Student with Roll No: \" + str(ID))\n",
    "for i in range(1,n+1):\n",
    "    key = \"student\"+str(i)\n",
    "    if ID == student[key][\"RollNo\"]"
   ]
  },
  {
   "cell_type": "markdown",
   "id": "f2f998c0",
   "metadata": {},
   "source": [
    "### Task 7"
   ]
  },
  {
   "cell_type": "code",
   "execution_count": 210,
   "id": "3af9b6eb",
   "metadata": {},
   "outputs": [
    {
     "name": "stdout",
     "output_type": "stream",
     "text": [
      "Ten\n",
      "10\n",
      "Ten : 10\n",
      "Twenty\n",
      "20\n",
      "Twenty : 20\n",
      "Thirty\n",
      "30\n",
      "Thirty : 30\n",
      "Fourty\n",
      "40\n",
      "Fourty : 40\n",
      "Fifty\n",
      "50\n",
      "Fifty : 50\n",
      "Sixty\n",
      "60\n",
      "Sixty : 60\n",
      "Seventy\n",
      "70\n",
      "Seventy : 70\n",
      "Eighty\n",
      "80\n",
      "Eighty : 80\n",
      "\n",
      "OR\n",
      "2nd Method\n",
      "\n",
      "Ten\n",
      "Twenty\n",
      "Thirty\n",
      "Fourty\n",
      "Fifty\n",
      "Sixty\n",
      "Seventy\n",
      "Eighty\n",
      "10\n",
      "20\n",
      "30\n",
      "40\n",
      "50\n",
      "60\n",
      "70\n",
      "80\n",
      "Ten : 10\n",
      "Twenty : 20\n",
      "Thirty : 30\n",
      "Fourty : 40\n",
      "Fifty : 50\n",
      "Sixty : 60\n",
      "Seventy : 70\n",
      "Eighty : 80\n"
     ]
    }
   ],
   "source": [
    "dict1 = {'Ten': 10, 'Twenty': 20, 'Thirty': 30}\n",
    "dict2 = {'Thirty': 30, 'Fourty': 40, 'Fifty': 50}\n",
    "dict3 = {'Sixty': 60, 'Seventy': 70, 'Eighty': 80}\n",
    "dict4 = {**dict1, **dict2, **dict3}\n",
    "for each_key, each_val in dict4.items():\n",
    "    print(each_key)\n",
    "    print(each_val)      \n",
    "    print(each_key + \" : \" + str(each_val))\n",
    "print(\"\\nOR\\n2nd Method\\n\")\n",
    "for each_key in dict4.keys():\n",
    "    print(each_key)\n",
    "for each_val in dict4.values():\n",
    "    print(each_val)\n",
    "for each_key, each_val in dict4.items():  \n",
    "    print(each_key + \" : \" + str(each_val))"
   ]
  }
 ],
 "metadata": {
  "kernelspec": {
   "display_name": "Python 3 (ipykernel)",
   "language": "python",
   "name": "python3"
  },
  "language_info": {
   "codemirror_mode": {
    "name": "ipython",
    "version": 3
   },
   "file_extension": ".py",
   "mimetype": "text/x-python",
   "name": "python",
   "nbconvert_exporter": "python",
   "pygments_lexer": "ipython3",
   "version": "3.9.7"
  }
 },
 "nbformat": 4,
 "nbformat_minor": 5
}
